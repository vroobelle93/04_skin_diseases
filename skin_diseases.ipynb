{
 "cells": [
  {
   "cell_type": "markdown",
   "source": [
    "# Skin disease recognition\n",
    "\n",
    "Dermatology is one of the most neglected areas when it comes to preventing and maintaining human health. Many people do not pay attention to changes that occur on their skin, often treating them as something harmless that they have become accustomed to, putting a visit to a specialist at the bottom of their priority list. These growths, when left untreated, can remain dormant for a long time and then, for example, after exposure to an external factor, can take on a pathological form that significantly threatens our health.\n",
    "\n",
    "In recent years, due to technological advances, modern computer tools have been increasingly used in the diagnosis of skin diseases. One of these tools is neural networks, which are excellent at detecting patterns in images for classification purposes. This allows for the early detection of potentially dangerous skin changes and faster medical intervention. The development of technology in image recognition enables the creation of increasingly advanced systems that can help diagnose skin diseases and improve the health of patients. This paper presents the process of recognizing skin changes based on photographs and evaluates the effectiveness of machine learning algorithms in this task.\n",
    "\n",
    "Data comes from:\n",
    "*Tschandl P., Rosendahl C. & Kittler H. The HAM10000 dataset, a large collection of multi-source dermatoscopic images of common pigmented skin lesions. Sci. Data 5, 180161 doi:10.1038/sdata.2018.161 (2018)*"
   ],
   "metadata": {
    "collapsed": false
   }
  },
  {
   "cell_type": "markdown",
   "source": [
    "<img src=\"img/dermatolog.jpg\" alt=\"Dermatologist\" width=\"700\">"
   ],
   "metadata": {
    "collapsed": false
   }
  },
  {
   "cell_type": "markdown",
   "source": [
    "# Import libraries"
   ],
   "metadata": {
    "collapsed": false
   }
  },
  {
   "cell_type": "code",
   "execution_count": 1,
   "metadata": {
    "collapsed": true
   },
   "outputs": [],
   "source": [
    "import matplotlib.pyplot as plt\n",
    "import numpy as np\n",
    "import pandas as pd\n",
    "import seaborn as sns\n",
    "import tensorflow as tf\n",
    "\n",
    "from sklearn.model_selection import train_test_split\n",
    "from tensorflow import keras\n",
    "from tensorflow.keras import layers\n",
    "from tensorflow.keras.preprocessing.image import ImageDataGenerator"
   ]
  },
  {
   "cell_type": "markdown",
   "source": [
    "# Data gathering"
   ],
   "metadata": {
    "collapsed": false
   }
  },
  {
   "cell_type": "markdown",
   "source": [
    "### Dataset description\n",
    "The dataset consists of following columns:\n",
    " - *lesion_id* - id number of particular lesion\n",
    " - *image_id* - image file name\n",
    " - *dx* - recognized lesion code, which stands for:\n",
    "    - *akiec* - Actinic keratoses and intraepithelial carcinoma / Bowen's disease\n",
    "    - *bcc* - basal cell carcinoma\n",
    "    - *bkl* - benign keratosis-like lesions\n",
    "    - *df* - dermatofibroma\n",
    "    - *mel* - melanoma\n",
    "    - *nv* - melanocytic nevi\n",
    "    - *vasc* - vascular lesions\n",
    "\n",
    " - *dx_type* - defines how was the lesion was recognized:\n",
    "    - *histo* - through histopathology\n",
    "    - *follow-up* - follow-up examination\n",
    "    - *consensus* - expert consensus\n",
    "    - *confocal* - confirmation by in-vivo confocal microscopy\n",
    " - *age* - patient's age group\n",
    " - *sex* - patient's sex\n",
    " - *localization* - localization of the lesion\n"
   ],
   "metadata": {
    "collapsed": false
   }
  },
  {
   "cell_type": "markdown",
   "source": [
    "### Loading images metadata"
   ],
   "metadata": {
    "collapsed": false
   }
  },
  {
   "cell_type": "code",
   "execution_count": 2,
   "outputs": [
    {
     "data": {
      "text/plain": "     lesion_id      image_id   dx dx_type   age   sex localization\n0  HAM_0000118  ISIC_0027419  bkl   histo  80.0  male        scalp\n1  HAM_0000118  ISIC_0025030  bkl   histo  80.0  male        scalp\n2  HAM_0002730  ISIC_0026769  bkl   histo  80.0  male        scalp\n3  HAM_0002730  ISIC_0025661  bkl   histo  80.0  male        scalp\n4  HAM_0001466  ISIC_0031633  bkl   histo  75.0  male          ear",
      "text/html": "<div>\n<style scoped>\n    .dataframe tbody tr th:only-of-type {\n        vertical-align: middle;\n    }\n\n    .dataframe tbody tr th {\n        vertical-align: top;\n    }\n\n    .dataframe thead th {\n        text-align: right;\n    }\n</style>\n<table border=\"1\" class=\"dataframe\">\n  <thead>\n    <tr style=\"text-align: right;\">\n      <th></th>\n      <th>lesion_id</th>\n      <th>image_id</th>\n      <th>dx</th>\n      <th>dx_type</th>\n      <th>age</th>\n      <th>sex</th>\n      <th>localization</th>\n    </tr>\n  </thead>\n  <tbody>\n    <tr>\n      <th>0</th>\n      <td>HAM_0000118</td>\n      <td>ISIC_0027419</td>\n      <td>bkl</td>\n      <td>histo</td>\n      <td>80.0</td>\n      <td>male</td>\n      <td>scalp</td>\n    </tr>\n    <tr>\n      <th>1</th>\n      <td>HAM_0000118</td>\n      <td>ISIC_0025030</td>\n      <td>bkl</td>\n      <td>histo</td>\n      <td>80.0</td>\n      <td>male</td>\n      <td>scalp</td>\n    </tr>\n    <tr>\n      <th>2</th>\n      <td>HAM_0002730</td>\n      <td>ISIC_0026769</td>\n      <td>bkl</td>\n      <td>histo</td>\n      <td>80.0</td>\n      <td>male</td>\n      <td>scalp</td>\n    </tr>\n    <tr>\n      <th>3</th>\n      <td>HAM_0002730</td>\n      <td>ISIC_0025661</td>\n      <td>bkl</td>\n      <td>histo</td>\n      <td>80.0</td>\n      <td>male</td>\n      <td>scalp</td>\n    </tr>\n    <tr>\n      <th>4</th>\n      <td>HAM_0001466</td>\n      <td>ISIC_0031633</td>\n      <td>bkl</td>\n      <td>histo</td>\n      <td>75.0</td>\n      <td>male</td>\n      <td>ear</td>\n    </tr>\n  </tbody>\n</table>\n</div>"
     },
     "execution_count": 2,
     "metadata": {},
     "output_type": "execute_result"
    }
   ],
   "source": [
    "# Read the file with recognized lesions data\n",
    "lesions_df = pd.read_csv('archive/HAM10000_metadata.csv')\n",
    "lesions_df.head()"
   ],
   "metadata": {
    "collapsed": false
   }
  },
  {
   "cell_type": "markdown",
   "source": [
    "### Loading images\n",
    "I will load the images using data generator object. A data generator is an object in TensorFlow that enables easy loading of large datasets, such as images, into memory one batch at a time. In the case of large datasets, such as image datasets, loading them all at once into memory can lead to the exhaustion of memory resources, as well as prolong the time it takes to load the data."
   ],
   "metadata": {
    "collapsed": false
   }
  },
  {
   "cell_type": "markdown",
   "source": [
    "To properly connect labels from the dataframe with photos we need to pass correct filename, which mean we must modify the *image_id* column:"
   ],
   "metadata": {
    "collapsed": false
   }
  },
  {
   "cell_type": "code",
   "execution_count": 3,
   "outputs": [
    {
     "data": {
      "text/plain": "     lesion_id          image_id   dx dx_type   age   sex localization\n0  HAM_0000118  ISIC_0027419.jpg  bkl   histo  80.0  male        scalp\n1  HAM_0000118  ISIC_0025030.jpg  bkl   histo  80.0  male        scalp\n2  HAM_0002730  ISIC_0026769.jpg  bkl   histo  80.0  male        scalp\n3  HAM_0002730  ISIC_0025661.jpg  bkl   histo  80.0  male        scalp\n4  HAM_0001466  ISIC_0031633.jpg  bkl   histo  75.0  male          ear",
      "text/html": "<div>\n<style scoped>\n    .dataframe tbody tr th:only-of-type {\n        vertical-align: middle;\n    }\n\n    .dataframe tbody tr th {\n        vertical-align: top;\n    }\n\n    .dataframe thead th {\n        text-align: right;\n    }\n</style>\n<table border=\"1\" class=\"dataframe\">\n  <thead>\n    <tr style=\"text-align: right;\">\n      <th></th>\n      <th>lesion_id</th>\n      <th>image_id</th>\n      <th>dx</th>\n      <th>dx_type</th>\n      <th>age</th>\n      <th>sex</th>\n      <th>localization</th>\n    </tr>\n  </thead>\n  <tbody>\n    <tr>\n      <th>0</th>\n      <td>HAM_0000118</td>\n      <td>ISIC_0027419.jpg</td>\n      <td>bkl</td>\n      <td>histo</td>\n      <td>80.0</td>\n      <td>male</td>\n      <td>scalp</td>\n    </tr>\n    <tr>\n      <th>1</th>\n      <td>HAM_0000118</td>\n      <td>ISIC_0025030.jpg</td>\n      <td>bkl</td>\n      <td>histo</td>\n      <td>80.0</td>\n      <td>male</td>\n      <td>scalp</td>\n    </tr>\n    <tr>\n      <th>2</th>\n      <td>HAM_0002730</td>\n      <td>ISIC_0026769.jpg</td>\n      <td>bkl</td>\n      <td>histo</td>\n      <td>80.0</td>\n      <td>male</td>\n      <td>scalp</td>\n    </tr>\n    <tr>\n      <th>3</th>\n      <td>HAM_0002730</td>\n      <td>ISIC_0025661.jpg</td>\n      <td>bkl</td>\n      <td>histo</td>\n      <td>80.0</td>\n      <td>male</td>\n      <td>scalp</td>\n    </tr>\n    <tr>\n      <th>4</th>\n      <td>HAM_0001466</td>\n      <td>ISIC_0031633.jpg</td>\n      <td>bkl</td>\n      <td>histo</td>\n      <td>75.0</td>\n      <td>male</td>\n      <td>ear</td>\n    </tr>\n  </tbody>\n</table>\n</div>"
     },
     "execution_count": 3,
     "metadata": {},
     "output_type": "execute_result"
    }
   ],
   "source": [
    "lesions_df['image_id'] = lesions_df['image_id'] + '.jpg'\n",
    "lesions_df.head()"
   ],
   "metadata": {
    "collapsed": false
   }
  },
  {
   "cell_type": "markdown",
   "source": [
    "For proper training/validation data split I will shuffle the dataset, so that all classes are more-less evenly distributed in those subsets."
   ],
   "metadata": {
    "collapsed": false
   }
  },
  {
   "cell_type": "code",
   "execution_count": 4,
   "outputs": [],
   "source": [
    "lesions_df = lesions_df.sample(frac=1)"
   ],
   "metadata": {
    "collapsed": false
   }
  },
  {
   "cell_type": "markdown",
   "source": [
    "Now I can create the generator:"
   ],
   "metadata": {
    "collapsed": false
   }
  },
  {
   "cell_type": "code",
   "execution_count": 61,
   "outputs": [],
   "source": [
    "# Creating ImageDataGenerator object\n",
    "img_generator = ImageDataGenerator(rescale=1. / 255,\n",
    "                                   rotation_range=180\n",
    "                                   )"
   ],
   "metadata": {
    "collapsed": false
   }
  },
  {
   "cell_type": "markdown",
   "source": [
    "### Splitting the data into training, validation and test sets"
   ],
   "metadata": {
    "collapsed": false
   }
  },
  {
   "cell_type": "code",
   "execution_count": 60,
   "outputs": [
    {
     "name": "stdout",
     "output_type": "stream",
     "text": [
      "Training data: 7210 elements\n",
      "Validation data: 1803 elements\n",
      "Testing data: 1002 elements\n"
     ]
    }
   ],
   "source": [
    "# First data split\n",
    "lesions_train_df, lesions_test_df = train_test_split(lesions_df, test_size=0.1)\n",
    "# Second split\n",
    "lesions_train_df, lesions_valid_df = train_test_split(lesions_train_df, test_size=0.2)\n",
    "print(f'Training data: {len(lesions_train_df)} elements')\n",
    "print(f'Validation data: {len(lesions_valid_df)} elements')\n",
    "print(f'Testing data: {len(lesions_test_df)} elements')"
   ],
   "metadata": {
    "collapsed": false
   }
  },
  {
   "cell_type": "markdown",
   "source": [
    "Now create generators"
   ],
   "metadata": {
    "collapsed": false
   }
  },
  {
   "cell_type": "code",
   "execution_count": 62,
   "outputs": [
    {
     "name": "stdout",
     "output_type": "stream",
     "text": [
      "Found 7210 validated image filenames belonging to 7 classes.\n",
      "Found 1803 validated image filenames belonging to 7 classes.\n",
      "Found 1002 validated image filenames belonging to 7 classes.\n"
     ]
    }
   ],
   "source": [
    "# Images directory\n",
    "img_dir = 'archive/HAM10000_images'\n",
    "# Training data generator\n",
    "train_generator = img_generator.flow_from_dataframe(dataframe=lesions_train_df,  # DataFrame with labels\n",
    "                                                    directory=img_dir,  # images directory\n",
    "                                                    x_col='image_id',  # column name containing images names\n",
    "                                                    y_col='dx',  # column name containing labels\n",
    "                                                    class_mode='categorical',  # classification mode\n",
    "                                                    batch_size=32)\n",
    "# Validation data generator\n",
    "validation_generator = img_generator.flow_from_dataframe(dataframe=lesions_valid_df,\n",
    "                                                         directory=img_dir,\n",
    "                                                         x_col='image_id',\n",
    "                                                         y_col='dx',\n",
    "                                                         class_mode='categorical',\n",
    "                                                         batch_size=32)\n",
    "# Testing data generator\n",
    "test_generator = img_generator.flow_from_dataframe(dataframe=lesions_test_df,\n",
    "                                                    directory=img_dir,\n",
    "                                                    x_col='image_id',\n",
    "                                                    y_col='dx',\n",
    "                                                    class_mode='categorical',\n",
    "                                                    batch_size=32)"
   ],
   "metadata": {
    "collapsed": false
   }
  },
  {
   "cell_type": "markdown",
   "source": [
    "### Check how the data has been split\n",
    "We have to check if the data has been spit evenly into both - training and testing - sets."
   ],
   "metadata": {
    "collapsed": false
   }
  },
  {
   "cell_type": "code",
   "execution_count": 65,
   "outputs": [
    {
     "data": {
      "text/plain": "       Training  Validation  Testing\nakiec       242          53       32\nbcc         365          85       64\nbkl         800         200       99\ndf           83          19       13\nmel         801         207      105\nnv         4813        1216      676\nvasc        106          23       13",
      "text/html": "<div>\n<style scoped>\n    .dataframe tbody tr th:only-of-type {\n        vertical-align: middle;\n    }\n\n    .dataframe tbody tr th {\n        vertical-align: top;\n    }\n\n    .dataframe thead th {\n        text-align: right;\n    }\n</style>\n<table border=\"1\" class=\"dataframe\">\n  <thead>\n    <tr style=\"text-align: right;\">\n      <th></th>\n      <th>Training</th>\n      <th>Validation</th>\n      <th>Testing</th>\n    </tr>\n  </thead>\n  <tbody>\n    <tr>\n      <th>akiec</th>\n      <td>242</td>\n      <td>53</td>\n      <td>32</td>\n    </tr>\n    <tr>\n      <th>bcc</th>\n      <td>365</td>\n      <td>85</td>\n      <td>64</td>\n    </tr>\n    <tr>\n      <th>bkl</th>\n      <td>800</td>\n      <td>200</td>\n      <td>99</td>\n    </tr>\n    <tr>\n      <th>df</th>\n      <td>83</td>\n      <td>19</td>\n      <td>13</td>\n    </tr>\n    <tr>\n      <th>mel</th>\n      <td>801</td>\n      <td>207</td>\n      <td>105</td>\n    </tr>\n    <tr>\n      <th>nv</th>\n      <td>4813</td>\n      <td>1216</td>\n      <td>676</td>\n    </tr>\n    <tr>\n      <th>vasc</th>\n      <td>106</td>\n      <td>23</td>\n      <td>13</td>\n    </tr>\n  </tbody>\n</table>\n</div>"
     },
     "execution_count": 65,
     "metadata": {},
     "output_type": "execute_result"
    }
   ],
   "source": [
    "# Counts values\n",
    "index_train, counts_train = np.unique(train_generator.classes, return_counts=True)\n",
    "index_valid, counts_valid = np.unique(validation_generator.classes, return_counts=True)\n",
    "index_test, counts_test = np.unique(test_generator.classes, return_counts=True)\n",
    "# Create DataFrame\n",
    "split_counts_df = pd.DataFrame(index=train_generator.class_indices.keys())\n",
    "split_counts_df['Training'] = counts_train\n",
    "split_counts_df['Validation'] = counts_valid\n",
    "split_counts_df['Testing'] = counts_test\n",
    "# Show the DataFrame\n",
    "split_counts_df"
   ],
   "metadata": {
    "collapsed": false
   }
  },
  {
   "cell_type": "markdown",
   "source": [
    "Now let's show it on the plot"
   ],
   "metadata": {
    "collapsed": false
   }
  },
  {
   "cell_type": "code",
   "execution_count": 66,
   "outputs": [
    {
     "data": {
      "text/plain": "<Figure size 640x480 with 1 Axes>",
      "image/png": "[encoded data removed]"
     },
     "metadata": {},
     "output_type": "display_data"
    }
   ],
   "source": [
    "ax = split_counts_df.plot.bar()\n",
    "ax.grid(False)\n",
    "ax.set_title('Data distribution between\\ntraining and validation sets')\n",
    "\n",
    "plt.show()"
   ],
   "metadata": {
    "collapsed": false
   }
  },
  {
   "cell_type": "markdown",
   "source": [
    "**Conclusion:** The data has been split evenly, so in both datasets there will be similar samples distribution."
   ],
   "metadata": {
    "collapsed": false
   }
  },
  {
   "cell_type": "markdown",
   "source": [
    "# Exploratory data analysis\n",
    "Let's have a look at how the diseases are distributed"
   ],
   "metadata": {
    "collapsed": false
   }
  },
  {
   "cell_type": "markdown",
   "source": [
    "### Lession types count\n",
    "Let's check how many lesions of each category are in the dataset. I will split it into two charts, where one will show distribution of distinct lesions shown in the dataset and the other will show distribution of lesions images, because some lesions have couple photos. To do it I will prepare the second dataset for them."
   ],
   "metadata": {
    "collapsed": false
   }
  },
  {
   "cell_type": "code",
   "execution_count": 6,
   "outputs": [
    {
     "data": {
      "text/plain": "        lesion_id   dx    dx_type   age     sex     localization\n5931  HAM_0002570   nv  follow_up  30.0    male            trunk\n4814  HAM_0004797   nv  follow_up  50.0  female             back\n294   HAM_0003800  bkl      histo  70.0    male  upper extremity\n2648  HAM_0003216  bcc      histo  85.0  female             face\n5666  HAM_0006276   nv  follow_up  45.0    male             back",
      "text/html": "<div>\n<style scoped>\n    .dataframe tbody tr th:only-of-type {\n        vertical-align: middle;\n    }\n\n    .dataframe tbody tr th {\n        vertical-align: top;\n    }\n\n    .dataframe thead th {\n        text-align: right;\n    }\n</style>\n<table border=\"1\" class=\"dataframe\">\n  <thead>\n    <tr style=\"text-align: right;\">\n      <th></th>\n      <th>lesion_id</th>\n      <th>dx</th>\n      <th>dx_type</th>\n      <th>age</th>\n      <th>sex</th>\n      <th>localization</th>\n    </tr>\n  </thead>\n  <tbody>\n    <tr>\n      <th>5931</th>\n      <td>HAM_0002570</td>\n      <td>nv</td>\n      <td>follow_up</td>\n      <td>30.0</td>\n      <td>male</td>\n      <td>trunk</td>\n    </tr>\n    <tr>\n      <th>4814</th>\n      <td>HAM_0004797</td>\n      <td>nv</td>\n      <td>follow_up</td>\n      <td>50.0</td>\n      <td>female</td>\n      <td>back</td>\n    </tr>\n    <tr>\n      <th>294</th>\n      <td>HAM_0003800</td>\n      <td>bkl</td>\n      <td>histo</td>\n      <td>70.0</td>\n      <td>male</td>\n      <td>upper extremity</td>\n    </tr>\n    <tr>\n      <th>2648</th>\n      <td>HAM_0003216</td>\n      <td>bcc</td>\n      <td>histo</td>\n      <td>85.0</td>\n      <td>female</td>\n      <td>face</td>\n    </tr>\n    <tr>\n      <th>5666</th>\n      <td>HAM_0006276</td>\n      <td>nv</td>\n      <td>follow_up</td>\n      <td>45.0</td>\n      <td>male</td>\n      <td>back</td>\n    </tr>\n  </tbody>\n</table>\n</div>"
     },
     "execution_count": 6,
     "metadata": {},
     "output_type": "execute_result"
    }
   ],
   "source": [
    "distinct_lesions_df = lesions_df.drop('image_id', axis=1).drop_duplicates()\n",
    "distinct_lesions_df.head()"
   ],
   "metadata": {
    "collapsed": false
   }
  },
  {
   "cell_type": "markdown",
   "source": [
    "Next I will prepare a DataFrame to store both counted values"
   ],
   "metadata": {
    "collapsed": false
   }
  },
  {
   "cell_type": "code",
   "execution_count": 24,
   "outputs": [
    {
     "data": {
      "text/plain": "       images_count  lesions_count\nnv             6705           5403\nmel            1113            616\nbkl            1099            727\nbcc             514            327\nakiec           327            228\nvasc            142             98\ndf              115             73",
      "text/html": "<div>\n<style scoped>\n    .dataframe tbody tr th:only-of-type {\n        vertical-align: middle;\n    }\n\n    .dataframe tbody tr th {\n        vertical-align: top;\n    }\n\n    .dataframe thead th {\n        text-align: right;\n    }\n</style>\n<table border=\"1\" class=\"dataframe\">\n  <thead>\n    <tr style=\"text-align: right;\">\n      <th></th>\n      <th>images_count</th>\n      <th>lesions_count</th>\n    </tr>\n  </thead>\n  <tbody>\n    <tr>\n      <th>nv</th>\n      <td>6705</td>\n      <td>5403</td>\n    </tr>\n    <tr>\n      <th>mel</th>\n      <td>1113</td>\n      <td>616</td>\n    </tr>\n    <tr>\n      <th>bkl</th>\n      <td>1099</td>\n      <td>727</td>\n    </tr>\n    <tr>\n      <th>bcc</th>\n      <td>514</td>\n      <td>327</td>\n    </tr>\n    <tr>\n      <th>akiec</th>\n      <td>327</td>\n      <td>228</td>\n    </tr>\n    <tr>\n      <th>vasc</th>\n      <td>142</td>\n      <td>98</td>\n    </tr>\n    <tr>\n      <th>df</th>\n      <td>115</td>\n      <td>73</td>\n    </tr>\n  </tbody>\n</table>\n</div>"
     },
     "execution_count": 24,
     "metadata": {},
     "output_type": "execute_result"
    }
   ],
   "source": [
    "counts_df = pd.DataFrame()\n",
    "counts_df['images_count'] = lesions_df['dx'].value_counts()\n",
    "counts_df['lesions_count'] = distinct_lesions_df['dx'].value_counts()\n",
    "counts_df"
   ],
   "metadata": {
    "collapsed": false
   }
  },
  {
   "cell_type": "markdown",
   "source": [
    "...and create a plot"
   ],
   "metadata": {
    "collapsed": false
   }
  },
  {
   "cell_type": "code",
   "execution_count": 29,
   "outputs": [
    {
     "data": {
      "text/plain": "<Figure size 640x480 with 1 Axes>",
      "image/png": "[encoded data removed]"
     },
     "metadata": {},
     "output_type": "display_data"
    }
   ],
   "source": [
    "ax = counts_df.plot.bar()\n",
    "ax.legend(labels=['Images count', 'Lesions count'])\n",
    "ax.set_title('Number of images and lesions\\nin the dataset')\n",
    "ax.grid(False)\n",
    "plt.show()"
   ],
   "metadata": {
    "collapsed": false
   }
  },
  {
   "cell_type": "markdown",
   "source": [
    "### TODO\n",
    " - density plot for each lesion type vs age"
   ],
   "metadata": {
    "collapsed": false
   }
  },
  {
   "cell_type": "markdown",
   "source": [
    "# Building model"
   ],
   "metadata": {
    "collapsed": false
   }
  },
  {
   "cell_type": "markdown",
   "source": [
    "### Model architecture\n",
    "TODO: describe model architecture"
   ],
   "metadata": {
    "collapsed": false
   }
  },
  {
   "cell_type": "code",
   "execution_count": 13,
   "outputs": [],
   "source": [
    "model = keras.Sequential([layers.Conv2D(32, (3, 3), activation='relu'),\n",
    "                          layers.MaxPooling2D((2, 2)),\n",
    "                          layers.Conv2D(64, (3, 3), activation='relu'),\n",
    "                          layers.MaxPooling2D((2, 2)),\n",
    "                          layers.Conv2D(128, (3, 3), activation='relu'),\n",
    "                          layers.MaxPooling2D((2, 2)),\n",
    "                          layers.Flatten(),\n",
    "                          layers.Dense(128, activation='relu'),\n",
    "                          layers.Dense(7, activation='softmax')\n",
    "])"
   ],
   "metadata": {
    "collapsed": false
   }
  },
  {
   "cell_type": "markdown",
   "source": [
    "### Model compilation\n",
    "Model compilation is responsible for configuring it for training by specifying the optimizer, loss function, and metrics to be used during the training process. The optimizer determines how the model is updated based on the loss function and gradients calculated during training, while the loss function is used to measure the error between the predicted output and the actual output. Metrics are used to evaluate the performance of the model during training and can be used to monitor the progress of the training process.\n",
    "\n",
    "TODO: choose parameters for non-even data distribution as 'accuracy' is good for evenly distributed classes\n",
    "TODO: apply class weight distribution"
   ],
   "metadata": {
    "collapsed": false
   }
  },
  {
   "cell_type": "code",
   "execution_count": 14,
   "outputs": [],
   "source": [
    "model.compile(optimizer='adam',\n",
    "              loss='categorical_crossentropy',\n",
    "              metrics='accuracy')"
   ],
   "metadata": {
    "collapsed": false
   }
  },
  {
   "cell_type": "markdown",
   "source": [
    "### Training the model"
   ],
   "metadata": {
    "collapsed": false
   }
  },
  {
   "cell_type": "code",
   "execution_count": 15,
   "outputs": [],
   "source": [
    "# trained_model = model.fit(\n",
    "#     train_generator,\n",
    "#     epochs=10,\n",
    "#     validation_data=validation_generator\n",
    "# )"
   ],
   "metadata": {
    "collapsed": false
   }
  },
  {
   "cell_type": "markdown",
   "source": [
    "# Feature engineering"
   ],
   "metadata": {
    "collapsed": false
   }
  },
  {
   "cell_type": "markdown",
   "source": [],
   "metadata": {
    "collapsed": false
   }
  },
  {
   "cell_type": "markdown",
   "source": [
    "# Pytania\n",
    "\n",
    " - czy dzielić dane na treningowe, walidacyjne i testowe, czy wystarczą treningowe i walidacyjne?\n",
    " - co można jeszcze uwzględnić w EDA?\n",
    " - w jaki sposób polepszyć dokładność modelu?\n"
   ],
   "metadata": {
    "collapsed": false
   }
  },
  {
   "cell_type": "code",
   "execution_count": null,
   "outputs": [],
   "source": [],
   "metadata": {
    "collapsed": false
   }
  }
 ],
 "metadata": {
  "kernelspec": {
   "display_name": "Python 3",
   "language": "python",
   "name": "python3"
  },
  "language_info": {
   "codemirror_mode": {
    "name": "ipython",
    "version": 2
   },
   "file_extension": ".py",
   "mimetype": "text/x-python",
   "name": "python",
   "nbconvert_exporter": "python",
   "pygments_lexer": "ipython2",
   "version": "2.7.6"
  }
 },
 "nbformat": 4,
 "nbformat_minor": 0
}
